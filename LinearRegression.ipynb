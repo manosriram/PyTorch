{
 "cells": [
  {
   "cell_type": "code",
   "execution_count": 18,
   "metadata": {},
   "outputs": [],
   "source": [
    "import torch\n",
    "from torch.autograd import Variable\n",
    "import matplotlib.pyplot as plt"
   ]
  },
  {
   "cell_type": "code",
   "execution_count": 42,
   "metadata": {},
   "outputs": [],
   "source": [
    "class LinearRegression(torch.nn.Module):\n",
    "    def __init__(self, inputSize, outputSize):\n",
    "        super(LinearRegression, self).__init__()\n",
    "        self.linear = torch.nn.Linear(inputSize, outputSize)\n",
    "        \n",
    "    def forward(self, x):\n",
    "        out = self.linear(x)\n",
    "        return out"
   ]
  },
  {
   "cell_type": "code",
   "execution_count": 44,
   "metadata": {},
   "outputs": [],
   "source": [
    "import numpy as np\n",
    "# create dummy data for training\n",
    "x_values = [i for i in range(11)]\n",
    "x_train = np.array(x_values, dtype=np.float32)\n",
    "x_train = x_train.reshape(-1, 1)\n",
    "\n",
    "y_values = [2*i + 1 for i in x_values]\n",
    "y_train = np.array(y_values, dtype=np.float32)\n",
    "y_train = y_train.reshape(-1, 1)"
   ]
  },
  {
   "cell_type": "code",
   "execution_count": 52,
   "metadata": {},
   "outputs": [],
   "source": [
    "# Parameters.\n",
    "inputDim = 1\n",
    "outputDim = 1\n",
    "learningRate = 0.01\n",
    "epochs = 100"
   ]
  },
  {
   "cell_type": "code",
   "execution_count": 46,
   "metadata": {},
   "outputs": [],
   "source": [
    "model = LinearRegression(inputDim, outputDim)"
   ]
  },
  {
   "cell_type": "code",
   "execution_count": 47,
   "metadata": {},
   "outputs": [],
   "source": [
    "criterion = torch.nn.MSELoss()\n",
    "optimizer = torch.optim.SGD(model.parameters(), lr=learningRate)"
   ]
  },
  {
   "cell_type": "code",
   "execution_count": 54,
   "metadata": {},
   "outputs": [
    {
     "name": "stdout",
     "output_type": "stream",
     "text": [
      "epoch: 0 loss: 2.8077411684535036e-07\n",
      "epoch: 1 loss: 2.772631546577031e-07\n",
      "epoch: 2 loss: 2.7417692649578385e-07\n",
      "epoch: 3 loss: 2.7118770162815053e-07\n",
      "epoch: 4 loss: 2.681471187315765e-07\n",
      "epoch: 5 loss: 2.6526714691499365e-07\n",
      "epoch: 6 loss: 2.6242537387588527e-07\n",
      "epoch: 7 loss: 2.5952604687518033e-07\n",
      "epoch: 8 loss: 2.564119085946004e-07\n",
      "epoch: 9 loss: 2.535594489927462e-07\n",
      "epoch: 10 loss: 2.5082587740143936e-07\n",
      "epoch: 11 loss: 2.4811748744468787e-07\n",
      "epoch: 12 loss: 2.450993292768544e-07\n",
      "epoch: 13 loss: 2.4245997565230937e-07\n",
      "epoch: 14 loss: 2.3981436925168964e-07\n",
      "epoch: 15 loss: 2.3698117956882925e-07\n",
      "epoch: 16 loss: 2.3444657415438996e-07\n",
      "epoch: 17 loss: 2.3184334452253097e-07\n",
      "epoch: 18 loss: 2.2905301477749163e-07\n",
      "epoch: 19 loss: 2.2663542154077732e-07\n",
      "epoch: 20 loss: 2.2431451895954524e-07\n",
      "epoch: 21 loss: 2.2146919320675806e-07\n",
      "epoch: 22 loss: 2.190845407312736e-07\n",
      "epoch: 23 loss: 2.1659606375123985e-07\n",
      "epoch: 24 loss: 2.1429627850011457e-07\n",
      "epoch: 25 loss: 2.120438153951909e-07\n",
      "epoch: 26 loss: 2.0950773205186124e-07\n",
      "epoch: 27 loss: 2.072552831577923e-07\n",
      "epoch: 28 loss: 2.049374501211787e-07\n",
      "epoch: 29 loss: 2.0274380574392126e-07\n",
      "epoch: 30 loss: 2.0022824287480034e-07\n",
      "epoch: 31 loss: 1.9825981212306942e-07\n",
      "epoch: 32 loss: 1.957798616558648e-07\n",
      "epoch: 33 loss: 1.9343148949246824e-07\n",
      "epoch: 34 loss: 1.9157639030709106e-07\n",
      "epoch: 35 loss: 1.8937809898034175e-07\n",
      "epoch: 36 loss: 1.8734161244537972e-07\n",
      "epoch: 37 loss: 1.8520272249133996e-07\n",
      "epoch: 38 loss: 1.8300157478279289e-07\n",
      "epoch: 39 loss: 1.8110101507318177e-07\n",
      "epoch: 40 loss: 1.7909445659824996e-07\n",
      "epoch: 41 loss: 1.7694692644454335e-07\n",
      "epoch: 42 loss: 1.7508686767087056e-07\n",
      "epoch: 43 loss: 1.7313078615188715e-07\n",
      "epoch: 44 loss: 1.711685087002479e-07\n",
      "epoch: 45 loss: 1.693215239129131e-07\n",
      "epoch: 46 loss: 1.6745281072871876e-07\n",
      "epoch: 47 loss: 1.6551321380120498e-07\n",
      "epoch: 48 loss: 1.6348894860129803e-07\n",
      "epoch: 49 loss: 1.617480478444122e-07\n",
      "epoch: 50 loss: 1.6004256053747667e-07\n",
      "epoch: 51 loss: 1.581678361617378e-07\n",
      "epoch: 52 loss: 1.5651620799417287e-07\n",
      "epoch: 53 loss: 1.546885926018149e-07\n",
      "epoch: 54 loss: 1.527799327050161e-07\n",
      "epoch: 55 loss: 1.5140881259867456e-07\n",
      "epoch: 56 loss: 1.4965969796776335e-07\n",
      "epoch: 57 loss: 1.4787671887006582e-07\n",
      "epoch: 58 loss: 1.4620768240547477e-07\n",
      "epoch: 59 loss: 1.4468864151240268e-07\n",
      "epoch: 60 loss: 1.430013440995026e-07\n",
      "epoch: 61 loss: 1.4131400405403838e-07\n",
      "epoch: 62 loss: 1.397783222500948e-07\n",
      "epoch: 63 loss: 1.3811960286602698e-07\n",
      "epoch: 64 loss: 1.365440169820431e-07\n",
      "epoch: 65 loss: 1.3505690787951607e-07\n",
      "epoch: 66 loss: 1.3353690064832335e-07\n",
      "epoch: 67 loss: 1.3208656923779927e-07\n",
      "epoch: 68 loss: 1.3054606995410722e-07\n",
      "epoch: 69 loss: 1.292305853439757e-07\n",
      "epoch: 70 loss: 1.2771486979090696e-07\n",
      "epoch: 71 loss: 1.2628021295313374e-07\n",
      "epoch: 72 loss: 1.2499937440679787e-07\n",
      "epoch: 73 loss: 1.236313238450748e-07\n",
      "epoch: 74 loss: 1.2222749035117886e-07\n",
      "epoch: 75 loss: 1.2079966893452365e-07\n",
      "epoch: 76 loss: 1.195324159652955e-07\n",
      "epoch: 77 loss: 1.180813171686168e-07\n",
      "epoch: 78 loss: 1.1678661593350625e-07\n",
      "epoch: 79 loss: 1.155924991280699e-07\n",
      "epoch: 80 loss: 1.1438414304620892e-07\n",
      "epoch: 81 loss: 1.1285965939578091e-07\n",
      "epoch: 82 loss: 1.1163356816723535e-07\n",
      "epoch: 83 loss: 1.1047557535448504e-07\n",
      "epoch: 84 loss: 1.0927013249784068e-07\n",
      "epoch: 85 loss: 1.0809614536810841e-07\n",
      "epoch: 86 loss: 1.066451815745495e-07\n",
      "epoch: 87 loss: 1.0554085605463115e-07\n",
      "epoch: 88 loss: 1.0440889752771909e-07\n",
      "epoch: 89 loss: 1.0325430110924572e-07\n",
      "epoch: 90 loss: 1.0213376100409732e-07\n",
      "epoch: 91 loss: 1.0091297042436054e-07\n",
      "epoch: 92 loss: 9.980524851016526e-08\n",
      "epoch: 93 loss: 9.87191413059918e-08\n",
      "epoch: 94 loss: 9.766597486304818e-08\n",
      "epoch: 95 loss: 9.647128962342322e-08\n",
      "epoch: 96 loss: 9.542319645561292e-08\n",
      "epoch: 97 loss: 9.444961079907443e-08\n",
      "epoch: 98 loss: 9.316060811670468e-08\n",
      "epoch: 99 loss: 9.231964526179581e-08\n"
     ]
    }
   ],
   "source": [
    "for epo in range(epochs):\n",
    "    # Convert Inputs and Labels into Variables.\n",
    "    inputs = Variable(torch.from_numpy(x_train))\n",
    "    labels = Variable(torch.from_numpy(y_train))\n",
    "    \n",
    "    # Reset Gradients.\n",
    "    optimizer.zero_grad()\n",
    "    outputs = model(inputs)\n",
    "    \n",
    "    # Get loss for the predicted output.\n",
    "    loss = criterion(outputs, labels)\n",
    "    loss.backward()\n",
    "    \n",
    "    # Update Parameters.\n",
    "    optimizer.step()\n",
    "    print(f\"epoch: {epo} loss: {loss.item()}\")"
   ]
  },
  {
   "cell_type": "code",
   "execution_count": 28,
   "metadata": {},
   "outputs": [
    {
     "data": {
      "image/png": "[encoded data removed]",
      "text/plain": [
       "<Figure size 432x288 with 1 Axes>"
      ]
     },
     "metadata": {
      "needs_background": "light"
     },
     "output_type": "display_data"
    }
   ],
   "source": [
    "predicted = model(Variable(torch.from_numpy(x_train))).data.numpy()\n",
    "plt.clf()\n",
    "plt.plot(x_train, y_train, label='True data', alpha=0.5)\n",
    "plt.plot(x_train, predicted, '--', label='Predictions', alpha=0.5)\n",
    "plt.legend(loc='best')\n",
    "plt.show()"
   ]
  }
 ],
 "metadata": {
  "kernelspec": {
   "display_name": "Python 3",
   "language": "python",
   "name": "python3"
  },
  "language_info": {
   "codemirror_mode": {
    "name": "ipython",
    "version": 3
   },
   "file_extension": ".py",
   "mimetype": "text/x-python",
   "name": "python",
   "nbconvert_exporter": "python",
   "pygments_lexer": "ipython3",
   "version": "3.7.3"
  }
 },
 "nbformat": 4,
 "nbformat_minor": 4
}
